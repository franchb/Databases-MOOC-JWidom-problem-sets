{
 "cells": [
  {
   "cell_type": "markdown",
   "metadata": {},
   "source": [
    "# Queries"
   ]
  },
  {
   "cell_type": "markdown",
   "metadata": {},
   "source": [
    "## 1.  Consider a database with the following schema:\n",
    "\n",
    "```\n",
    "Person ( name, age, gender )\n",
    "name is a key\n",
    "Frequents ( name, pizzeria )\n",
    "(name, pizzeria) is a key\n",
    "Eats ( name, pizza )\n",
    "(name, pizza) is a key\n",
    "Serves ( pizzeria, pizza, price )\n",
    "(pizzeria, pizza) is a key\n",
    "```\n"
   ]
  },
  {
   "cell_type": "markdown",
   "metadata": {},
   "source": [
    "### a. Find all pizzerias frequented by at least one person under the age of 18."
   ]
  },
  {
   "cell_type": "markdown",
   "metadata": {},
   "source": [
    "$$ \\pi_{pizzeria} \\left( \\sigma_{age<18} \\left( Person \\right) \\right) $$"
   ]
  },
  {
   "cell_type": "markdown",
   "metadata": {},
   "source": [
    "`\\project_{pizzeria} (\\select_{age<18} Person \\join Frequents);`"
   ]
  },
  {
   "cell_type": "code",
   "execution_count": 4,
   "metadata": {
    "collapsed": true
   },
   "outputs": [],
   "source": [
    "filename = 'task_a.ra'\n",
    "expression = '''\\project_{pizzeria} (\n",
    "                    \\select_{age<18} Person \n",
    "                    \\join Frequents\n",
    "                );\n",
    "             '''\n",
    "with open(filename, 'w') as f:\n",
    "    f.write(expression)"
   ]
  },
  {
   "cell_type": "code",
   "execution_count": 7,
   "metadata": {},
   "outputs": [
    {
     "name": "stdout",
     "output_type": "stream",
     "text": [
      "(pizzeria:string)\n",
      "----------------------------------------------------------------------\n",
      "Pizza Hut\n",
      "New York Pizza\n",
      "Straw Hat\n",
      "----------------------------------------------------------------------\n",
      "3 tuples returned\n"
     ]
    }
   ],
   "source": [
    "%%bash -s \"$filename\"\n",
    "radb -i $1"
   ]
  },
  {
   "cell_type": "markdown",
   "metadata": {},
   "source": [
    "### b.  Find the names of all females who eat either mushroom or pepperoni pizza (or both)."
   ]
  },
  {
   "cell_type": "markdown",
   "metadata": {},
   "source": [
    "$$ \\pi_{pizza} \\left( \\sigma_{gender='female'}\\left( Person \\right) \\Join \\sigma_{pizza='mushroom'\\wedge pizza='pepperoni'} \\left( Eats \\right) \\right) $$"
   ]
  },
  {
   "cell_type": "code",
   "execution_count": 24,
   "metadata": {
    "collapsed": true
   },
   "outputs": [],
   "source": [
    "filename = 'task_b.ra'\n",
    "expression = '''\\project_{name} (\n",
    "                    \\select_{gender='female'} Person\n",
    "                    \\join\n",
    "                    \\select_{pizza='mushroom' or pizza='pepperoni'} Eats\n",
    "                );\n",
    "             '''\n",
    "with open(filename, 'w') as f:\n",
    "    f.write(expression)"
   ]
  },
  {
   "cell_type": "code",
   "execution_count": 23,
   "metadata": {},
   "outputs": [
    {
     "name": "stdout",
     "output_type": "stream",
     "text": [
      "(name:string)\n",
      "----------------------------------------------------------------------\n",
      "Amy\n",
      "Fay\n",
      "----------------------------------------------------------------------\n",
      "2 tuples returned\n"
     ]
    }
   ],
   "source": [
    "%%bash -s \"$filename\"\n",
    "radb -i $1"
   ]
  },
  {
   "cell_type": "markdown",
   "metadata": {},
   "source": [
    "### c. Find the names of all females who eat both mushroom and pepperoni pizza."
   ]
  },
  {
   "cell_type": "markdown",
   "metadata": {},
   "source": [
    "$$ \\pi_{name} \\left(\\sigma_{gender='female'\\, AND \\, pizza='mushroom'} \\left( Person \\Join Eats \\right) \\right) \\cap \\pi_{name} \\left(\\sigma_{gender='female'\\, AND \\, pizza='pepperoni'} \\left( Person \\Join Eats \\right) \\right) $$"
   ]
  },
  {
   "cell_type": "code",
   "execution_count": 39,
   "metadata": {},
   "outputs": [],
   "source": [
    "filename = 'task_c.ra'\n",
    "expression = r'''\\project_{name} (\n",
    "                   \\select_{gender='female' and pizza='mushroom'}\n",
    "                       (Person \\join Eats)\n",
    "                 )\n",
    "                 \\intersect\n",
    "                 \\project_{name} (\n",
    "                   \\select_{gender='female' and pizza='pepperoni'}\n",
    "                       (Person \\join Eats)\n",
    "                 )\n",
    "                ;\n",
    "             '''\n",
    "with open(filename, 'w') as f:\n",
    "    f.write(expression)"
   ]
  },
  {
   "cell_type": "code",
   "execution_count": 40,
   "metadata": {},
   "outputs": [
    {
     "name": "stdout",
     "output_type": "stream",
     "text": [
      "(name:string)\n",
      "----------------------------------------------------------------------\n",
      "Amy\n",
      "----------------------------------------------------------------------\n",
      "1 tuple returned\n"
     ]
    }
   ],
   "source": [
    "%%bash -s \"$filename\"\n",
    "radb -i $1"
   ]
  },
  {
   "cell_type": "markdown",
   "metadata": {},
   "source": [
    "### d. Find all pizzerias that serve at least one pizza that Amy eats for less than $10.00."
   ]
  },
  {
   "cell_type": "markdown",
   "metadata": {},
   "source": [
    "$$ \\pi_{pizzeria} \\left(\\sigma_{name='Amy'\\, AND \\, price<10} \\left( Eats \\Join Serves \\right) \\right)$$\n",
    "or more efficient version:\n",
    "$$ \\pi_{pizzeria} \\left(\\sigma_{name='Amy'} \\left( Eats \\right) \\Join \\sigma_{price<10} \\left( Serves \\right) \\right)$$"
   ]
  },
  {
   "cell_type": "code",
   "execution_count": 42,
   "metadata": {
    "collapsed": true
   },
   "outputs": [],
   "source": [
    "filename = 'task_d.ra'\n",
    "expression = r'''\\project_{pizzeria} (\\select_{name='Amy' and price<10} (Eats \\join Serves));\n",
    "             '''\n",
    "with open(filename, 'w') as f:\n",
    "    f.write(expression)"
   ]
  },
  {
   "cell_type": "code",
   "execution_count": 43,
   "metadata": {},
   "outputs": [
    {
     "name": "stdout",
     "output_type": "stream",
     "text": [
      "(pizzeria:string)\n",
      "----------------------------------------------------------------------\n",
      "Little Caesars\n",
      "New York Pizza\n",
      "Straw Hat\n",
      "----------------------------------------------------------------------\n",
      "3 tuples returned\n"
     ]
    }
   ],
   "source": [
    "%%bash -s \"$filename\"\n",
    "radb -i $1"
   ]
  },
  {
   "cell_type": "markdown",
   "metadata": {},
   "source": [
    "### e. Find all pizzerias that are frequented by only females or only males."
   ]
  },
  {
   "cell_type": "markdown",
   "metadata": {},
   "source": [
    "$$ \\pi_{pizzeria} \\left(\\sigma_{gender='female'} \\left( Person \\Join Frequents \\right) \\right) \\cap \\pi_{pizzeria} \\left(\\sigma_{gender='male'} \\left( Person \\Join Frequents \\right) \\right) $$"
   ]
  },
  {
   "cell_type": "code",
   "execution_count": 46,
   "metadata": {
    "collapsed": true
   },
   "outputs": [],
   "source": [
    "filename = 'task_e.ra'\n",
    "expression = r'''\\project_{pizzeria} (\n",
    "                    \\select_{gender='male'} (Person \\join Frequents))\n",
    "                 \\intersect\n",
    "                 \\project_{pizzeria} (\n",
    "                    \\select_{gender='female'} (Person \\join Frequents)) \n",
    "                ;\n",
    "             '''\n",
    "with open(filename, 'w') as f:\n",
    "    f.write(expression)"
   ]
  },
  {
   "cell_type": "code",
   "execution_count": 49,
   "metadata": {},
   "outputs": [
    {
     "name": "stdout",
     "output_type": "stream",
     "text": [
      "(pizzeria:string)\n",
      "----------------------------------------------------------------------\n",
      "Dominos\n",
      "Pizza Hut\n",
      "Straw Hat\n",
      "----------------------------------------------------------------------\n",
      "3 tuples returned\n"
     ]
    }
   ],
   "source": [
    "%%bash -s \"$filename\"\n",
    "radb -i $1"
   ]
  },
  {
   "cell_type": "markdown",
   "metadata": {},
   "source": [
    "### f. For each person, find all pizzas the person eats that are not served by any pizzeria the person frequents. Return all such person (name) / pizza pairs."
   ]
  },
  {
   "cell_type": "markdown",
   "metadata": {},
   "source": [
    "$$ Eats -  \\pi_{name,pizza} \\left(\\ Frequents \\Join Serves \\right)  $$"
   ]
  },
  {
   "cell_type": "code",
   "execution_count": 50,
   "metadata": {
    "collapsed": true
   },
   "outputs": [],
   "source": [
    "filename = 'task_f.ra'\n",
    "expression = r'''Eats \n",
    "                    \\diff\n",
    "                      \\project_{name, pizza} (\n",
    "                          Frequents \n",
    "                          \\join\n",
    "                          Serves\n",
    "                      ) \n",
    "                ;\n",
    "             '''\n",
    "with open(filename, 'w') as f:\n",
    "    f.write(expression)"
   ]
  },
  {
   "cell_type": "code",
   "execution_count": 51,
   "metadata": {},
   "outputs": [
    {
     "name": "stdout",
     "output_type": "stream",
     "text": [
      "(name:string, pizza:string)\n",
      "----------------------------------------------------------------------\n",
      "Amy, mushroom\n",
      "Dan, mushroom\n",
      "Gus, mushroom\n",
      "----------------------------------------------------------------------\n",
      "3 tuples returned\n"
     ]
    }
   ],
   "source": [
    "%%bash -s \"$filename\"\n",
    "radb -i $1"
   ]
  },
  {
   "cell_type": "markdown",
   "metadata": {},
   "source": [
    "### g. Find the names of all people who frequent only pizzerias serving at least one pizza they eat."
   ]
  },
  {
   "cell_type": "markdown",
   "metadata": {},
   "source": [
    "$$ \\pi_{name} \\left(\\ Person \\right) - \\left(\\ Frequents - \\pi_{name,pizzeria} \\left( Eats \\Join Serves \\right) \\right)  $$"
   ]
  },
  {
   "cell_type": "code",
   "execution_count": 81,
   "metadata": {
    "collapsed": true
   },
   "outputs": [],
   "source": [
    "filename = 'task_g.ra'\n",
    "expression = r'''\\project_{name} (Person)\n",
    "                 \\diff (\n",
    "                     \\project_{name} (\n",
    "                     Frequents\n",
    "                     \\diff\n",
    "                     \\project_{name, pizzeria} (\n",
    "                          Eats\n",
    "                          \\join\n",
    "                          Serves\n",
    "                      )));\n",
    "             '''\n",
    "with open(filename, 'w') as f:\n",
    "    f.write(expression)"
   ]
  },
  {
   "cell_type": "code",
   "execution_count": 82,
   "metadata": {},
   "outputs": [
    {
     "name": "stdout",
     "output_type": "stream",
     "text": [
      "(name:string)\n",
      "----------------------------------------------------------------------\n",
      "Amy\n",
      "Ben\n",
      "Dan\n",
      "Eli\n",
      "Fay\n",
      "Gus\n",
      "Hil\n",
      "----------------------------------------------------------------------\n",
      "7 tuples returned\n"
     ]
    }
   ],
   "source": [
    "%%bash -s \"$filename\"\n",
    "radb -i $1"
   ]
  },
  {
   "cell_type": "markdown",
   "metadata": {},
   "source": [
    "### h. Find the names of all people who frequent every pizzeria serving at least one pizza they eat."
   ]
  },
  {
   "cell_type": "markdown",
   "metadata": {},
   "source": [
    "$$ \\pi_{name} \\left( Person \\right) - \\left( \\pi_{name,pizzeria} \\left( Eats \\Join Serves \\right) - Frequents \\right)  $$"
   ]
  },
  {
   "cell_type": "code",
   "execution_count": 83,
   "metadata": {
    "collapsed": true
   },
   "outputs": [],
   "source": [
    "filename = 'task_h.ra'\n",
    "expression = r'''\\project_{name} (Person)\n",
    "                 \\diff (\n",
    "                     \\project_{name} (\n",
    "                     \\project_{name, pizzeria} (\n",
    "                          Eats\n",
    "                          \\join\n",
    "                          Serves\n",
    "                      )\n",
    "                      \\diff\n",
    "                      Frequents\n",
    "                      ));\n",
    "             '''\n",
    "with open(filename, 'w') as f:\n",
    "    f.write(expression)"
   ]
  },
  {
   "cell_type": "code",
   "execution_count": 84,
   "metadata": {},
   "outputs": [
    {
     "name": "stdout",
     "output_type": "stream",
     "text": [
      "(name:string)\n",
      "----------------------------------------------------------------------\n",
      "Fay\n",
      "----------------------------------------------------------------------\n",
      "1 tuple returned\n"
     ]
    }
   ],
   "source": [
    "%%bash -s \"$filename\"\n",
    "radb -i $1"
   ]
  },
  {
   "cell_type": "markdown",
   "metadata": {},
   "source": [
    "### i. Find the pizzeria serving the cheapest pepperoni pizza. In the case of ties, return all of the cheapest-pepperoni pizzerias."
   ]
  },
  {
   "cell_type": "markdown",
   "metadata": {},
   "source": [
    "$$\n",
    "\\pi_{pizzeria}\n",
    "    \\left(\n",
    "        \\sigma_{pizza='pepperoni'}Serves\n",
    "    \\right)\n",
    "$$\n",
    "\n",
    "$$-$$\n",
    "\n",
    "$$\n",
    "\\pi_{pizzeria}\n",
    "    \\lbrack\n",
    "$$\n",
    "\n",
    "$$\n",
    "        \\sigma_{price>price2}\n",
    "            \\left(\n",
    "                \\pi_{pizzeria, price}\n",
    "                \\left(\n",
    "                    \\sigma_{pizza='pepperoni'}Serves\n",
    "                \\right)\n",
    "            \\right)\n",
    "$$\n",
    "\n",
    "$$\\times$$\n",
    "\n",
    "$$            \n",
    "        \\rho_{pizzeria2,price2}\n",
    "        \\pi_{pizzeria, price}\n",
    "            \\left(\n",
    "                \\sigma_{pizza='pepperoni'}Serves\n",
    "            \\right)\n",
    "$$\n",
    "\n",
    "$$\n",
    "    \\rbrack\n",
    "$$"
   ]
  },
  {
   "cell_type": "code",
   "execution_count": 89,
   "metadata": {
    "collapsed": true
   },
   "outputs": [],
   "source": [
    "filename = 'task_i.ra'\n",
    "expression = r'''\\project_{pizzeria} (\n",
    "                    \\select_{pizza='pepperoni'} Serves)\n",
    "                 \\diff\n",
    "                 \\project_{pizzeria} (\n",
    "                     \\select_{price>price2} (\n",
    "                         \\project_{pizzeria,price} (\n",
    "                             \\select_{pizza='pepperoni'} Serves\n",
    "                         )\n",
    "                         \\cross\n",
    "                         \\rename_{pizzeria2,price2}\n",
    "                             \\project_{pizzeria,price} (\n",
    "                                 \\select_{pizza='pepperoni'} Serves\n",
    "                             )\n",
    "                    )\n",
    "                 );\n",
    "             '''\n",
    "with open(filename, 'w') as f:\n",
    "    f.write(expression)"
   ]
  },
  {
   "cell_type": "code",
   "execution_count": 90,
   "metadata": {},
   "outputs": [
    {
     "name": "stdout",
     "output_type": "stream",
     "text": [
      "(pizzeria:string)\n",
      "----------------------------------------------------------------------\n",
      "New York Pizza\n",
      "Straw Hat\n",
      "----------------------------------------------------------------------\n",
      "2 tuples returned\n"
     ]
    }
   ],
   "source": [
    "%%bash -s \"$filename\"\n",
    "radb -i $1"
   ]
  },
  {
   "cell_type": "markdown",
   "metadata": {},
   "source": [
    "## Problem No. 2.\n",
    "\n",
    "> *Consider a schema with two relations, R(A, B) and S(B, C), where all values are integers. Make no assumptions about keys. Consider the following three relational algebra expressions:*"
   ]
  },
  {
   "attachments": {
    "image.png": {
     "image/png": "[encoded data removed]"
    }
   },
   "cell_type": "markdown",
   "metadata": {},
   "source": [
    "![image.png](attachment:image.png)"
   ]
  },
  {
   "cell_type": "markdown",
   "metadata": {},
   "source": [
    "> *Two of the three expressions are equivalent (i.e., produce the same answer on all databases), while one of them can produce a different answer. Which query can produce a different answer? Give the simplest database instance you can think of where a different answer is produced.*"
   ]
  },
  {
   "cell_type": "markdown",
   "metadata": {},
   "source": [
    "## Solution to Task 2:"
   ]
  },
  {
   "cell_type": "markdown",
   "metadata": {},
   "source": [
    " ## Problem No. 3\n",
    " > *Consider a relation R(A, B) that contains r tuples, and a relation S(B, C) that contains s tuples; assume r > 0 and s > 0. Make no assumptions about keys. For each of the following relational algebra expressions, state in terms of r and s the minimum and maximum number of tuples that could be in the result of the expression.*"
   ]
  },
  {
   "attachments": {
    "image.png": {
     "image/png": "[encoded data removed]"
    }
   },
   "cell_type": "markdown",
   "metadata": {},
   "source": [
    "![image.png](attachment:image.png)"
   ]
  },
  {
   "cell_type": "markdown",
   "metadata": {},
   "source": [
    "## Solution to Task 3:"
   ]
  },
  {
   "cell_type": "code",
   "execution_count": null,
   "metadata": {
    "collapsed": true
   },
   "outputs": [],
   "source": []
  }
 ],
 "metadata": {
  "kernelspec": {
   "display_name": "Python 3",
   "language": "python",
   "name": "python3"
  },
  "language_info": {
   "codemirror_mode": {
    "name": "ipython",
    "version": 3
   },
   "file_extension": ".py",
   "mimetype": "text/x-python",
   "name": "python",
   "nbconvert_exporter": "python",
   "pygments_lexer": "ipython3",
   "version": "3.6.3"
  }
 },
 "nbformat": 4,
 "nbformat_minor": 2
}
