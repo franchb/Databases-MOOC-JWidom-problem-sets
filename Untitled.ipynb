{
 "cells": [
  {
   "cell_type": "code",
   "execution_count": 5,
   "metadata": {},
   "outputs": [
    {
     "name": "stdout",
     "output_type": "stream",
     "text": [
      "WARNING: unable to read configuration file /home/franchb/.radb.ini; resorting to system defaults\n",
      "WARNING: no database specified\n",
      "radb: A relational algebra interpreter over relational databases\n",
      "Version 3.0.1 by Jun Yang <junyang@cs.duke.edu>\n",
      "https://github.com/junyang/radb\n",
      "ra> "
     ]
    }
   ],
   "source": [
    "%%bash\n",
    "radb"
   ]
  },
  {
   "cell_type": "code",
   "execution_count": null,
   "metadata": {
    "collapsed": true
   },
   "outputs": [],
   "source": []
  }
 ],
 "metadata": {
  "kernelspec": {
   "display_name": "Python 3",
   "language": "python",
   "name": "python3"
  },
  "language_info": {
   "codemirror_mode": {
    "name": "ipython",
    "version": 3
   },
   "file_extension": ".py",
   "mimetype": "text/x-python",
   "name": "python",
   "nbconvert_exporter": "python",
   "pygments_lexer": "ipython3",
   "version": "3.6.3"
  }
 },
 "nbformat": 4,
 "nbformat_minor": 2
}
